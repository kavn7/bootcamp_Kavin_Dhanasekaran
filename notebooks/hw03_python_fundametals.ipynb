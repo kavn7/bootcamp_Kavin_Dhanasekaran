{
 "cells": [
  {
   "cell_type": "code",
   "execution_count": 20,
   "id": "e746cec6-3c0b-4c00-b64c-d2564af768bb",
   "metadata": {},
   "outputs": [],
   "source": [
    "import sys\n",
    "sys.path.append(r\"C:\\Users\\kavin\\bootcamp_Kavin_Dhanasekaran\\src\")"
   ]
  },
  {
   "cell_type": "markdown",
   "id": "21d25d3d-da6a-4c8f-abc4-7379a941092a",
   "metadata": {},
   "source": [
    "# NumPy Operations"
   ]
  },
  {
   "cell_type": "code",
   "execution_count": 21,
   "id": "586e1856-6593-438a-9c8f-0880cf93f4d5",
   "metadata": {},
   "outputs": [
    {
     "name": "stdout",
     "output_type": "stream",
     "text": [
      "Elementwise sum: [5 7 9]\n"
     ]
    }
   ],
   "source": [
    "import numpy as np\n",
    "\n",
    "a = np.array([1, 2, 3])\n",
    "b = np.array([4, 5, 6])\n",
    "print(\"Elementwise sum:\", a + b)\n",
    "\n",
    "# Compare loop vs vectorized\n",
    "loop_result = [x + y for x, y in zip(a, b)]\n",
    "vectorized_result = a + b"
   ]
  },
  {
   "cell_type": "markdown",
   "id": "a905fe93-37a1-49f4-9130-892ab5c61343",
   "metadata": {},
   "source": [
    "# Dataset Loading"
   ]
  },
  {
   "cell_type": "code",
   "execution_count": 22,
   "id": "2e834431-9f7e-4fd2-b0c7-826bf4985276",
   "metadata": {
    "scrolled": true
   },
   "outputs": [
    {
     "name": "stdout",
     "output_type": "stream",
     "text": [
      "<class 'pandas.core.frame.DataFrame'>\n",
      "RangeIndex: 8 entries, 0 to 7\n",
      "Data columns (total 2 columns):\n",
      " #   Column      Non-Null Count  Dtype  \n",
      "---  ------      --------------  -----  \n",
      " 0   Unnamed: 0  8 non-null      object \n",
      " 1   value       8 non-null      float64\n",
      "dtypes: float64(1), object(1)\n",
      "memory usage: 256.0+ bytes\n",
      "None\n",
      "  Unnamed: 0      value\n",
      "0      count   8.000000\n",
      "1       mean  13.883629\n",
      "2        std   7.744319\n",
      "3        min   7.381659\n",
      "4        25%   7.919291\n"
     ]
    }
   ],
   "source": [
    "import pandas as pd\n",
    "\n",
    "df = pd.read_csv(r\"C:\\Users\\kavin\\bootcamp_Kavin_Dhanasekaran\\data\\starter_data.csv\")\n",
    "print(df.info())\n",
    "print(df.head())"
   ]
  },
  {
   "cell_type": "markdown",
   "id": "7c4269d6-f2b6-4498-ad81-9a5782cc0e13",
   "metadata": {},
   "source": [
    "# Summary"
   ]
  },
  {
   "cell_type": "code",
   "execution_count": 26,
   "id": "2cbad8a1-5240-445d-85cc-0f2f9ea2787e",
   "metadata": {},
   "outputs": [
    {
     "name": "stdout",
     "output_type": "stream",
     "text": [
      "           value\n",
      "count   8.000000\n",
      "mean   12.885819\n",
      "std     7.685261\n",
      "min     7.381659\n",
      "25%     7.875548\n",
      "50%     9.843750\n",
      "75%    14.530261\n",
      "max    30.000000\n",
      "Possible groupby column: Unnamed: 0\n"
     ]
    }
   ],
   "source": [
    "print(df.describe())\n",
    "for col in df.columns:\n",
    "    if df[col].dtype == \"object\" or df[col].dtype.name == \"category\":\n",
    "        print(f\"Possible groupby column: {col}\")\n",
    "  # Replace with actual column name"
   ]
  },
  {
   "cell_type": "markdown",
   "id": "cbedf99b-35f7-48ad-a9ed-96ec7098f25a",
   "metadata": {},
   "source": [
    "# Saving Outputs"
   ]
  },
  {
   "cell_type": "code",
   "execution_count": 28,
   "id": "7187aa83-52ee-481b-bb2a-71b74d20c917",
   "metadata": {},
   "outputs": [
    {
     "data": {
      "image/png": "[encoded data removed]",
      "text/plain": [
       "<Figure size 1000x600 with 1 Axes>"
      ]
     },
     "metadata": {},
     "output_type": "display_data"
    }
   ],
   "source": [
    "import os\n",
    "os.makedirs(\"data/processed\", exist_ok=True)\n",
    "summary = df.describe()\n",
    "summary.to_csv(\"data/processed/summary.csv\", index=False)\n",
    "summary.to_json(\"data/processed/summary.json\", orient=\"columns\")\n",
    "import matplotlib.pyplot as plt\n",
    "\n",
    "df.hist(figsize=(10, 6))\n",
    "plt.tight_layout()\n",
    "plt.savefig(\"data/processed/histogram.png\")"
   ]
  },
  {
   "cell_type": "markdown",
   "id": "76442987-73bd-4e16-ac33-b06e10036b5b",
   "metadata": {},
   "source": [
    "# Reusable Functions"
   ]
  },
  {
   "cell_type": "code",
   "execution_count": 31,
   "id": "410d4ae4-de97-45bb-9081-9e9c80a1f283",
   "metadata": {},
   "outputs": [
    {
     "name": "stdout",
     "output_type": "stream",
     "text": [
      "           value\n",
      "count   8.000000\n",
      "mean   12.885819\n",
      "std     7.685261\n",
      "min     7.381659\n",
      "25%     7.875548\n",
      "50%     9.843750\n",
      "75%    14.530261\n",
      "max    30.000000\n"
     ]
    }
   ],
   "source": [
    "def get_summary_stats(df):\n",
    "    \"\"\"\n",
    "    Returns basic summary statistics for numeric columns.\n",
    "    \"\"\"\n",
    "    return df.describe()\n",
    "summary = get_summary_stats(df)\n",
    "print(summary)"
   ]
  }
 ],
 "metadata": {
  "kernelspec": {
   "display_name": "Python 3 (ipykernel)",
   "language": "python",
   "name": "python3"
  },
  "language_info": {
   "codemirror_mode": {
    "name": "ipython",
    "version": 3
   },
   "file_extension": ".py",
   "mimetype": "text/x-python",
   "name": "python",
   "nbconvert_exporter": "python",
   "pygments_lexer": "ipython3",
   "version": "3.10.18"
  }
 },
 "nbformat": 4,
 "nbformat_minor": 5
}
