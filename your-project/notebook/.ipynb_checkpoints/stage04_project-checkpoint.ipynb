{
 "cells": [
  {
   "cell_type": "code",
   "execution_count": 22,
   "id": "5832e0b7-7cd8-4bd5-8a62-661c4bc6d0fd",
   "metadata": {},
   "outputs": [
    {
     "name": "stdout",
     "output_type": "stream",
     "text": [
      "Requirement already satisfied: yfinance in c:\\users\\kavin\\miniconda3\\envs\\bootcamp_env\\lib\\site-packages (0.2.65)Note: you may need to restart the kernel to use updated packages.\n",
      "\n",
      "Requirement already satisfied: pandas>=1.3.0 in c:\\users\\kavin\\miniconda3\\envs\\bootcamp_env\\lib\\site-packages (from yfinance) (2.3.1)\n",
      "Requirement already satisfied: numpy>=1.16.5 in c:\\users\\kavin\\miniconda3\\envs\\bootcamp_env\\lib\\site-packages (from yfinance) (2.2.6)\n",
      "Requirement already satisfied: requests>=2.31 in c:\\users\\kavin\\miniconda3\\envs\\bootcamp_env\\lib\\site-packages (from yfinance) (2.32.4)\n",
      "Requirement already satisfied: multitasking>=0.0.7 in c:\\users\\kavin\\miniconda3\\envs\\bootcamp_env\\lib\\site-packages (from yfinance) (0.0.12)\n",
      "Requirement already satisfied: platformdirs>=2.0.0 in c:\\users\\kavin\\miniconda3\\envs\\bootcamp_env\\lib\\site-packages (from yfinance) (4.3.8)\n",
      "Requirement already satisfied: pytz>=2022.5 in c:\\users\\kavin\\miniconda3\\envs\\bootcamp_env\\lib\\site-packages (from yfinance) (2025.2)\n",
      "Requirement already satisfied: frozendict>=2.3.4 in c:\\users\\kavin\\miniconda3\\envs\\bootcamp_env\\lib\\site-packages (from yfinance) (2.4.6)\n",
      "Requirement already satisfied: peewee>=3.16.2 in c:\\users\\kavin\\miniconda3\\envs\\bootcamp_env\\lib\\site-packages (from yfinance) (3.18.2)\n",
      "Requirement already satisfied: beautifulsoup4>=4.11.1 in c:\\users\\kavin\\miniconda3\\envs\\bootcamp_env\\lib\\site-packages (from yfinance) (4.13.4)\n",
      "Requirement already satisfied: curl_cffi>=0.7 in c:\\users\\kavin\\miniconda3\\envs\\bootcamp_env\\lib\\site-packages (from yfinance) (0.13.0)\n",
      "Requirement already satisfied: protobuf>=3.19.0 in c:\\users\\kavin\\miniconda3\\envs\\bootcamp_env\\lib\\site-packages (from yfinance) (6.32.0)\n",
      "Requirement already satisfied: websockets>=13.0 in c:\\users\\kavin\\miniconda3\\envs\\bootcamp_env\\lib\\site-packages (from yfinance) (15.0.1)\n",
      "Requirement already satisfied: soupsieve>1.2 in c:\\users\\kavin\\miniconda3\\envs\\bootcamp_env\\lib\\site-packages (from beautifulsoup4>=4.11.1->yfinance) (2.7)\n",
      "Requirement already satisfied: typing-extensions>=4.0.0 in c:\\users\\kavin\\miniconda3\\envs\\bootcamp_env\\lib\\site-packages (from beautifulsoup4>=4.11.1->yfinance) (4.14.1)\n",
      "Requirement already satisfied: cffi>=1.12.0 in c:\\users\\kavin\\miniconda3\\envs\\bootcamp_env\\lib\\site-packages (from curl_cffi>=0.7->yfinance) (1.17.1)\n",
      "Requirement already satisfied: certifi>=2024.2.2 in c:\\users\\kavin\\miniconda3\\envs\\bootcamp_env\\lib\\site-packages (from curl_cffi>=0.7->yfinance) (2025.8.3)\n",
      "Requirement already satisfied: pycparser in c:\\users\\kavin\\miniconda3\\envs\\bootcamp_env\\lib\\site-packages (from cffi>=1.12.0->curl_cffi>=0.7->yfinance) (2.22)\n",
      "Requirement already satisfied: python-dateutil>=2.8.2 in c:\\users\\kavin\\miniconda3\\envs\\bootcamp_env\\lib\\site-packages (from pandas>=1.3.0->yfinance) (2.9.0.post0)\n",
      "Requirement already satisfied: tzdata>=2022.7 in c:\\users\\kavin\\miniconda3\\envs\\bootcamp_env\\lib\\site-packages (from pandas>=1.3.0->yfinance) (2025.2)\n",
      "Requirement already satisfied: six>=1.5 in c:\\users\\kavin\\miniconda3\\envs\\bootcamp_env\\lib\\site-packages (from python-dateutil>=2.8.2->pandas>=1.3.0->yfinance) (1.17.0)\n",
      "Requirement already satisfied: charset_normalizer<4,>=2 in c:\\users\\kavin\\miniconda3\\envs\\bootcamp_env\\lib\\site-packages (from requests>=2.31->yfinance) (3.4.3)\n",
      "Requirement already satisfied: idna<4,>=2.5 in c:\\users\\kavin\\miniconda3\\envs\\bootcamp_env\\lib\\site-packages (from requests>=2.31->yfinance) (3.10)\n",
      "Requirement already satisfied: urllib3<3,>=1.21.1 in c:\\users\\kavin\\miniconda3\\envs\\bootcamp_env\\lib\\site-packages (from requests>=2.31->yfinance) (2.5.0)\n"
     ]
    }
   ],
   "source": [
    "%pip install yfinance"
   ]
  },
  {
   "cell_type": "code",
   "execution_count": 23,
   "id": "cf6e576d-610f-41c8-a9d3-f92774c4f6ce",
   "metadata": {},
   "outputs": [
    {
     "name": "stdout",
     "output_type": "stream",
     "text": [
      "API Key: cvna_value\n"
     ]
    }
   ],
   "source": [
    "from dotenv import load_dotenv\n",
    "import os\n",
    "\n",
    "load_dotenv()\n",
    "api_key = os.getenv(\"FINNHUB_API_KEY\")\n",
    "\n",
    "print(\"API Key:\", os.getenv(\"FINNHUB_API_KEY\"))\n"
   ]
  },
  {
   "cell_type": "code",
   "execution_count": 24,
   "id": "b5a5c367-684f-4d52-92eb-0f4cc4341e4e",
   "metadata": {},
   "outputs": [],
   "source": [
    "import os\n",
    "import time\n",
    "import requests\n",
    "import pandas as pd\n",
    "from dotenv import load_dotenv\n",
    "from datetime import datetime\n",
    "import yfinance as yf\n",
    "\n",
    "def ingest_stock_data(symbol=\"CVNA\", start_date=\"2023-01-01\", resolution=\"D\", output_dir=\"data/raw\"):\n",
    "    load_dotenv()\n",
    "    api_key = os.getenv(\"FINNHUB_API_KEY\")\n",
    "\n",
    "    from_ts = int(time.mktime(time.strptime(start_date, \"%Y-%m-%d\")))\n",
    "    to_ts = int(time.time())\n",
    "\n",
    "    url = \"https://finnhub.io/api/v1/stock/candle\"\n",
    "    params = {\n",
    "        \"symbol\": symbol,\n",
    "        \"resolution\": resolution,\n",
    "        \"from\": from_ts,\n",
    "        \"to\": to_ts,\n",
    "        \"token\": api_key\n",
    "    }\n",
    "\n",
    "    print(f\"🔄 Attempting Finnhub API for {symbol}...\")\n",
    "    try:\n",
    "        response = requests.get(url, params=params)\n",
    "        data = response.json()\n",
    "\n",
    "        if data.get(\"s\") == \"ok\":\n",
    "            df = pd.DataFrame({\n",
    "                \"timestamp\": pd.to_datetime(data[\"t\"], unit=\"s\"),\n",
    "                \"open\": data[\"o\"],\n",
    "                \"high\": data[\"h\"],\n",
    "                \"low\": data[\"l\"],\n",
    "                \"close\": data[\"c\"],\n",
    "                \"volume\": data[\"v\"]\n",
    "            })\n",
    "            source = \"finnhub\"\n",
    "        else:\n",
    "            print(f\"⚠️ Finnhub failed: {data}\")\n",
    "            df = None\n",
    "    except Exception as e:\n",
    "        print(f\"❌ Finnhub exception: {e}\")\n",
    "        df = None\n",
    "\n",
    "    # Fallback to yfinance\n",
    "    if df is None:\n",
    "        print(f\"🔁 Falling back to yfinance for {symbol}...\")\n",
    "        try:\n",
    "            ticker = yf.Ticker(symbol)\n",
    "            df = ticker.history(start=start_date).reset_index()\n",
    "            df = df.rename(columns={\n",
    "                \"Date\": \"timestamp\",\n",
    "                \"Open\": \"open\",\n",
    "                \"High\": \"high\",\n",
    "                \"Low\": \"low\",\n",
    "                \"Close\": \"close\",\n",
    "                \"Volume\": \"volume\"\n",
    "            })\n",
    "            source = \"yfinance\"\n",
    "        except Exception as e:\n",
    "            print(f\"❌ yfinance exception: {e}\")\n",
    "            return None\n",
    "\n",
    "    # Validate\n",
    "    if df.empty or df.isna().sum().sum() > 0:\n",
    "        print(\"⚠️ DataFrame is empty or contains NaNs.\")\n",
    "        return None\n",
    "\n",
    "    # Save\n",
    "    os.makedirs(output_dir, exist_ok=True)\n",
    "    timestamp = datetime.now().strftime(\"%Y%m%d-%H%M\")\n",
    "    filename = f\"{output_dir}/api_{source}_{symbol.lower()}_{timestamp}.csv\"\n",
    "    df.to_csv(filename, index=False)\n",
    "    print(f\"✅ Data saved to {filename}\")\n",
    "    return df"
   ]
  },
  {
   "cell_type": "code",
   "execution_count": 25,
   "id": "79e54c46-090c-46f4-9902-3a603117c155",
   "metadata": {},
   "outputs": [
    {
     "name": "stdout",
     "output_type": "stream",
     "text": [
      "API response: {'error': 'Invalid API key.'}\n"
     ]
    }
   ],
   "source": [
    "print(\"API response:\", data)"
   ]
  },
  {
   "cell_type": "code",
   "execution_count": 26,
   "id": "baad4512-b6b1-456b-b043-74dc675b587c",
   "metadata": {},
   "outputs": [
    {
     "name": "stdout",
     "output_type": "stream",
     "text": [
      "🔄 Attempting Finnhub API for CVNA...\n",
      "⚠️ Finnhub failed: {'error': 'Invalid API key.'}\n",
      "🔁 Falling back to yfinance for CVNA...\n",
      "✅ Data saved to data/raw/api_yfinance_cvna_20250818-1016.csv\n",
      "                    timestamp        open        high         low       close  \\\n",
      "0   2023-01-03 00:00:00-05:00    4.810000    4.880000    4.420000    4.630000   \n",
      "1   2023-01-04 00:00:00-05:00    4.660000    5.098000    4.555000    5.040000   \n",
      "2   2023-01-05 00:00:00-05:00    4.870000    4.920000    4.510000    4.550000   \n",
      "3   2023-01-06 00:00:00-05:00    4.590000    4.590000    4.230000    4.410000   \n",
      "4   2023-01-09 00:00:00-05:00    4.470000    4.790000    4.390000    4.440000   \n",
      "..                        ...         ...         ...         ...         ...   \n",
      "653 2025-08-12 00:00:00-04:00  352.000000  354.500000  335.160004  345.109985   \n",
      "654 2025-08-13 00:00:00-04:00  347.785004  351.489990  343.399994  349.869995   \n",
      "655 2025-08-14 00:00:00-04:00  346.450012  348.869995  340.649994  342.589996   \n",
      "656 2025-08-15 00:00:00-04:00  344.160004  351.536987  338.470001  349.989990   \n",
      "657 2025-08-18 00:00:00-04:00  350.500000  359.200012  350.000000  358.940002   \n",
      "\n",
      "       volume  Dividends  Stock Splits  \n",
      "0    12707300        0.0           0.0  \n",
      "1    11970100        0.0           0.0  \n",
      "2     9938400        0.0           0.0  \n",
      "3     8401700        0.0           0.0  \n",
      "4     9639200        0.0           0.0  \n",
      "..        ...        ...           ...  \n",
      "653   2745100        0.0           0.0  \n",
      "654   2329800        0.0           0.0  \n",
      "655   1752100        0.0           0.0  \n",
      "656   3650300        0.0           0.0  \n",
      "657    649346        0.0           0.0  \n",
      "\n",
      "[658 rows x 8 columns]\n"
     ]
    }
   ],
   "source": [
    "df_cvna = ingest_stock_data(symbol=\"CVNA\", start_date=\"2023-01-01\")\n",
    "print(df_cvna)"
   ]
  },
  {
   "cell_type": "code",
   "execution_count": 28,
   "id": "ad2873d7-4d7e-481d-8934-0aba5324458c",
   "metadata": {},
   "outputs": [
    {
     "name": "stdout",
     "output_type": "stream",
     "text": [
      "✅ yfinance DataFrame created: (658, 8)\n"
     ]
    }
   ],
   "source": [
    "import yfinance as yf\n",
    "import pandas as pd\n",
    "\n",
    "def fallback_yfinance(symbol=\"CVNA\", start_date=\"2023-01-01\"):\n",
    "    try:\n",
    "        ticker = yf.Ticker(symbol)\n",
    "        df = ticker.history(start=start_date).reset_index()\n",
    "        df = df.rename(columns={\n",
    "            \"Date\": \"timestamp\",\n",
    "            \"Open\": \"open\",\n",
    "            \"High\": \"high\",\n",
    "            \"Low\": \"low\",\n",
    "            \"Close\": \"close\",\n",
    "            \"Volume\": \"volume\"\n",
    "        })\n",
    "        print(\"✅ yfinance DataFrame created:\", df.shape)\n",
    "        return df\n",
    "    except Exception as e:\n",
    "        print(\"❌ yfinance failed:\", e)\n",
    "        return None\n",
    "\n",
    "df_test = fallback_yfinance()"
   ]
  },
  {
   "cell_type": "code",
   "execution_count": 32,
   "id": "65685d08-fd0a-4f9a-98fc-fb98f51175d7",
   "metadata": {},
   "outputs": [
    {
     "name": "stdout",
     "output_type": "stream",
     "text": [
      "🔄 Attempting Finnhub API for CVNA...\n",
      "⚠️ Finnhub failed: {'error': 'Invalid API key.'}\n",
      "🔁 Falling back to yfinance for CVNA...\n",
      "✅ Data saved to data/raw/api_yfinance_cvna_20250818-1022.csv\n",
      "✅ Saved to C:\\Users\\kavin\\bootcamp_Kavin_Dhanasekaran\\your-project\\data\\cvna.csv\n"
     ]
    }
   ],
   "source": [
    "from datetime import datetime\n",
    "\n",
    "timestamp = datetime.now().strftime(\"%Y%m%d-%H%M\")\n",
    "filename = r\"C:\\Users\\kavin\\bootcamp_Kavin_Dhanasekaran\\your-project\\data\\cvna.csv\"\n",
    "df = ingest_stock_data(symbol=\"CVNA\", start_date=\"2023-01-01\")\n",
    "df.to_csv(filename, index=False)\n",
    "\n",
    "\n",
    "if df is not None and not df.empty:\n",
    "    df.to_csv(filename, index=False)\n",
    "    print(f\"✅ Saved to {filename}\")\n",
    "else:\n",
    "    print(\"⚠️ DataFrame is missing or empty. Skipping save.\")"
   ]
  },
  {
   "cell_type": "raw",
   "id": "366fd46f-352f-42c5-9720-88aa2fd62ddc",
   "metadata": {},
   "source": [
    "# DATA SCRAPPING"
   ]
  },
  {
   "cell_type": "code",
   "execution_count": 35,
   "id": "f4349655-bd15-4bbd-9642-e5bc2b6e0a8a",
   "metadata": {},
   "outputs": [
    {
     "name": "stdout",
     "output_type": "stream",
     "text": [
      "✅ Saved to data/raw/scrape_msn_cvna-overview_20250818-1028.csv\n",
      "🔗 Scraping from: https://finance.yahoo.com/quote/CVNA/key-statistics\n",
      "❌ No tables found.\n",
      "⚠️ DataFrame is empty or missing.\n"
     ]
    }
   ],
   "source": [
    "import requests\n",
    "from bs4 import BeautifulSoup\n",
    "import pandas as pd\n",
    "from datetime import datetime\n",
    "\n",
    "def scrape_table(url, table_index=0):\n",
    "    print(f\"🔗 Scraping from: {url}\")\n",
    "    response = requests.get(url)\n",
    "    soup = BeautifulSoup(response.content, \"html.parser\")\n",
    "\n",
    "    tables = soup.find_all(\"table\")\n",
    "    if not tables:\n",
    "        print(\"❌ No tables found.\")\n",
    "        return None\n",
    "\n",
    "    table = tables[table_index]\n",
    "    rows = table.find_all(\"tr\")\n",
    "\n",
    "    data = []\n",
    "    for row in rows:\n",
    "        cols = row.find_all([\"td\", \"th\"])\n",
    "        data.append([col.get_text(strip=True) for col in cols])\n",
    "\n",
    "    df = pd.DataFrame(data[1:], columns=data[0])\n",
    "    print(\"✅ Table scraped:\", df.shape)\n",
    "    return df\n",
    "\n",
    "def validate_scraped_df(df):\n",
    "    if df is None or df.empty:\n",
    "        print(\"⚠️ DataFrame is empty or missing.\")\n",
    "        return False\n",
    "\n",
    "    print(\"📊 Columns:\", df.columns.tolist())\n",
    "    print(\"🧮 NA counts:\\n\", df.isna().sum())\n",
    "    print(\"🔢 Dtypes:\\n\", df.dtypes)\n",
    "    return True\n",
    "\n",
    "\n",
    "timestamp = datetime.now().strftime(\"%Y%m%d-%H%M\")\n",
    "filename = f\"data/raw/scrape_msn_cvna-overview_{timestamp}.csv\"\n",
    "df.to_csv(filename, index=False)\n",
    "print(f\"✅ Saved to {filename}\")\n",
    "\n",
    "url = \"https://finance.yahoo.com/quote/CVNA/key-statistics\"\n",
    "df_scraped = scrape_table(url)\n",
    "if validate_scraped_df(df_scraped):\n",
    "    timestamp = datetime.now().strftime(\"%Y%m%d-%H%M\")\n",
    "    filename = f\"data/raw/scrape_msn_cvna-overview_{timestamp}.csv\"\n",
    "    df_scraped.to_csv(filename, index=False)\n"
   ]
  },
  {
   "cell_type": "code",
   "execution_count": 38,
   "id": "30ef2ed1-8a52-4f73-9923-c97a0b43c3f5",
   "metadata": {},
   "outputs": [
    {
     "name": "stdout",
     "output_type": "stream",
     "text": [
      "✅ Scraped Finviz summary: (84, 2)\n",
      "📊 Columns: ['Metric', 'Value']\n",
      "🧮 NA counts:\n",
      " Metric    0\n",
      "Value     0\n",
      "dtype: int64\n",
      "🔢 Sample rows:\n",
      "          Metric    Value\n",
      "0         Index        -\n",
      "1           P/E    89.73\n",
      "2     EPS (ttm)     3.99\n",
      "3   Insider Own    8.67%\n",
      "4  Shs Outstand  136.50M\n",
      "✅ Saved to C:\\Users\\kavin\\bootcamp_Kavin_Dhanasekaran\\your-project\\data\\cvna_scrapped.csv\n"
     ]
    }
   ],
   "source": [
    "import requests\n",
    "from bs4 import BeautifulSoup\n",
    "import pandas as pd\n",
    "from datetime import datetime\n",
    "\n",
    "def scrape_finviz_summary(ticker=\"CVNA\"):\n",
    "    url = f\"https://finviz.com/quote.ashx?t={ticker}\"\n",
    "    headers = {\"User-Agent\": \"Mozilla/5.0\"}\n",
    "    response = requests.get(url, headers=headers)\n",
    "    soup = BeautifulSoup(response.content, \"html.parser\")\n",
    "\n",
    "    table = soup.find(\"table\", class_=\"snapshot-table2\")\n",
    "    if not table:\n",
    "        print(\"❌ Finviz table not found.\")\n",
    "        return None\n",
    "\n",
    "    rows = table.find_all(\"tr\")\n",
    "    data = []\n",
    "    for row in rows:\n",
    "        cols = row.find_all(\"td\")\n",
    "        for i in range(0, len(cols), 2):\n",
    "            label = cols[i].get_text(strip=True)\n",
    "            value = cols[i+1].get_text(strip=True)\n",
    "            data.append([label, value])\n",
    "\n",
    "    df = pd.DataFrame(data, columns=[\"Metric\", \"Value\"])\n",
    "    print(\"✅ Scraped Finviz summary:\", df.shape)\n",
    "    return df\n",
    "\n",
    "def validate_scraped_df(df):\n",
    "    if df is None or df.empty:\n",
    "        print(\"⚠️ DataFrame is empty or missing.\")\n",
    "        return False\n",
    "    print(\"📊 Columns:\", df.columns.tolist())\n",
    "    print(\"🧮 NA counts:\\n\", df.isna().sum())\n",
    "    print(\"🔢 Sample rows:\\n\", df.head())\n",
    "    return True\n",
    "\n",
    "def save_scraped_df(df, site=\"finviz\", table=\"summary\", ticker=\"cvna\"):\n",
    "    timestamp = datetime.now().strftime(\"%Y%m%d-%H%M\")\n",
    "    filename = r\"C:\\Users\\kavin\\bootcamp_Kavin_Dhanasekaran\\your-project\\data\\cvna_scrapped.csv\"\n",
    "    df.to_csv(filename, index=False)\n",
    "    print(f\"✅ Saved to {filename}\")\n",
    "\n",
    "df_finviz = scrape_finviz_summary(\"CVNA\")\n",
    "if validate_scraped_df(df_finviz):\n",
    "    save_scraped_df(df_finviz)\n"
   ]
  },
  {
   "cell_type": "code",
   "execution_count": null,
   "id": "482821fd-df4b-41fb-a6e1-8ff64ef1dd67",
   "metadata": {},
   "outputs": [],
   "source": []
  }
 ],
 "metadata": {
  "kernelspec": {
   "display_name": "Python 3 (ipykernel)",
   "language": "python",
   "name": "python3"
  },
  "language_info": {
   "codemirror_mode": {
    "name": "ipython",
    "version": 3
   },
   "file_extension": ".py",
   "mimetype": "text/x-python",
   "name": "python",
   "nbconvert_exporter": "python",
   "pygments_lexer": "ipython3",
   "version": "3.10.18"
  }
 },
 "nbformat": 4,
 "nbformat_minor": 5
}
