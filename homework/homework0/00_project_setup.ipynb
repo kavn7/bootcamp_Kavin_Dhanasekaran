{
 "cells": [
  {
   "cell_type": "code",
   "execution_count": null,
   "id": "abfc2570-9a93-4a5b-9206-8175c2143dcb",
   "metadata": {},
   "outputs": [],
   "source": [
    "import sys\n",
    "from pathlib import Path\n",
    "\n",
    "# Add project root to Python path\n",
    "project_root = Path(r\"C:\\Users\\kavin\\bootcamp_Kavin_Dhanasekaran\\src\").resolve().parent.parent\n",
    "sys.path.append(str(project_root))"
   ]
  },
  {
   "cell_type": "code",
   "execution_count": null,
   "id": "667cd1cd-1c22-4c14-8393-16eaee3dae1c",
   "metadata": {},
   "outputs": [],
   "source": [
    "from src.config import load_env, get_key\n",
    "\n",
    "load_env()\n",
    "api_key = get_key(\"API_KEY\")\n",
    "print(\"API_KEY present:\", api_key is not None)"
   ]
  },
  {
   "cell_type": "code",
   "execution_count": 2,
   "id": "4ed8bec3-d041-4188-a318-4f1f01175079",
   "metadata": {},
   "outputs": [
    {
     "name": "stdout",
     "output_type": "stream",
     "text": [
      "API_KEY: dummy_key_123\n"
     ]
    }
   ],
   "source": [
    "import os\n",
    "from dotenv import load_dotenv\n",
    "\n",
    "load_dotenv()\n",
    "print(\"API_KEY:\", os.getenv(\"API_KEY\"))"
   ]
  },
  {
   "cell_type": "code",
   "execution_count": 1,
   "id": "ac97f074-43ad-427b-831d-09770f2f0629",
   "metadata": {},
   "outputs": [
    {
     "name": "stdout",
     "output_type": "stream",
     "text": [
      "Array squared: [1 4 9]\n"
     ]
    }
   ],
   "source": [
    "import numpy as np\n",
    "\n",
    "arr = np.array([1, 2, 3])\n",
    "print(\"Array squared:\", arr ** 2)"
   ]
  }
 ],
 "metadata": {
  "kernelspec": {
   "display_name": "Python 3 (ipykernel)",
   "language": "python",
   "name": "python3"
  },
  "language_info": {
   "codemirror_mode": {
    "name": "ipython",
    "version": 3
   },
   "file_extension": ".py",
   "mimetype": "text/x-python",
   "name": "python",
   "nbconvert_exporter": "python",
   "pygments_lexer": "ipython3",
   "version": "3.11.13"
  }
 },
 "nbformat": 4,
 "nbformat_minor": 5
}
