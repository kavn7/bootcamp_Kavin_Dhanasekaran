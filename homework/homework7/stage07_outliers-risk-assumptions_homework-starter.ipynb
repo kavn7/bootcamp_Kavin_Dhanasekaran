{
  "cells": [
    {
      "cell_type": "markdown",
      "id": "3848df1c",
      "metadata": {},
      "source": [
        "# Setup: Generate Sample Dataset\n",
        "\n",
        "This cell creates the required folder structure (`data/raw/` and `data/processed/`) relative to the notebook, and generates the sample CSV dataset with missing values. \n",
        "This ensures the dataset is ready for cleaning functions and saves it to `data/raw/outliers_homework.csv`."
      ]
    },
    {
      "cell_type": "code",
      "execution_count": 1,
      "id": "6c50b376",
      "metadata": {},
      "outputs": [
        {
          "name": "stdout",
          "output_type": "stream",
          "text": [
            "Synthetic dataset with two columns created and saved to ../data/raw\\outliers_homework.csv\n"
          ]
        }
      ],
      "source": [
        "import os\n",
        "import numpy as np\n",
        "import pandas as pd\n",
        "\n",
        "# Define folder paths relative to this notebook\n",
        "raw_dir = '../data/raw'\n",
        "processed_dir = '../data/processed'\n",
        "\n",
        "# Create folders if they don't exist\n",
        "os.makedirs(raw_dir, exist_ok=True)\n",
        "os.makedirs(processed_dir, exist_ok=True)\n",
        "\n",
        "# Generate business day dates\n",
        "dates = pd.date_range(start=\"2022-01-03\", end=\"2022-06-10\", freq=\"B\")\n",
        "\n",
        "# Fixed random seed for reproducibility\n",
        "np.random.seed(17)\n",
        "\n",
        "# Column 1: daily_return ~ N(0, 0.01)\n",
        "returns = np.random.normal(0, 0.01, size=len(dates))\n",
        "mask_pre_may = dates < \"2022-05-01\"\n",
        "returns[mask_pre_may] -= 0.0015  \n",
        "\n",
        "# Inject \"shock\" values\n",
        "shock_values = {\n",
        "    \"2022-05-02\": 0.1748425237194541,\n",
        "    \"2022-05-03\": -0.16825801732486943,\n",
        "    \"2022-05-06\": -0.19667220757153227,\n",
        "    \"2022-05-09\": 0.21240223590614747,\n",
        "    \"2022-05-12\": -0.178729287231294\n",
        "}\n",
        "for d, v in shock_values.items():\n",
        "    idx = np.where(dates == pd.to_datetime(d))[0][0]\n",
        "    returns[idx] = v\n",
        "\n",
        "# Column 2: daily_return_2, correlated with daily_return + small noise\n",
        "daily_return_2 = returns * 0.6 + np.random.normal(0, 0.005, size=len(dates))\n",
        "\n",
        "# Create DataFrame with two numeric columns\n",
        "df = pd.DataFrame({\n",
        "    \"date\": dates,\n",
        "    \"daily_return\": returns,\n",
        "    \"daily_return_2\": daily_return_2\n",
        "})\n",
        "\n",
        "# Save to CSV in raw data folder\n",
        "csv_path = os.path.join(raw_dir, 'outliers_homework.csv')\n",
        "if not os.path.exists(csv_path):\n",
        "    df.to_csv(csv_path, index=False)\n",
        "    print(f'Synthetic dataset with two columns created and saved to {csv_path}')\n",
        "else:\n",
        "    print(f'File already exists at {csv_path}. Skipping CSV creation to avoid overwrite.')"
      ]
    },
    {
      "cell_type": "markdown",
      "metadata": {},
      "source": [
        "# Stage 7 Homework — Outliers + Risk Assumptions\n",
        "In this assignment you will implement outlier detection/handling and run a simple sensitivity analysis.\n",
        "\n",
        "**Chain:** In the lecture, we learned detection (IQR, Z-score), options for handling (remove/winsorize), and sensitivity testing. Now, you will adapt those methods to a provided dataset and document the risks and assumptions behind your choices."
      ]
    },
    {
      "cell_type": "code",
      "execution_count": 3,
      "metadata": {},
      "outputs": [
        {
          "name": "stdout",
          "output_type": "stream",
          "text": [
            "Collecting scikit-learn\n",
            "  Downloading scikit_learn-1.7.1-cp310-cp310-win_amd64.whl.metadata (11 kB)\n",
            "Requirement already satisfied: numpy>=1.22.0 in c:\\users\\kavin\\miniconda3\\envs\\bootcamp_env\\lib\\site-packages (from scikit-learn) (2.0.1)\n",
            "Collecting scipy>=1.8.0 (from scikit-learn)\n",
            "  Downloading scipy-1.15.3-cp310-cp310-win_amd64.whl.metadata (60 kB)\n",
            "Collecting joblib>=1.2.0 (from scikit-learn)\n",
            "  Downloading joblib-1.5.1-py3-none-any.whl.metadata (5.6 kB)\n",
            "Collecting threadpoolctl>=3.1.0 (from scikit-learn)\n",
            "  Downloading threadpoolctl-3.6.0-py3-none-any.whl.metadata (13 kB)\n",
            "Downloading scikit_learn-1.7.1-cp310-cp310-win_amd64.whl (8.9 MB)\n",
            "   ---------------------------------------- 0.0/8.9 MB ? eta -:--:--\n",
            "   ------------------ --------------------- 4.2/8.9 MB 21.0 MB/s eta 0:00:01\n",
            "   ------------------------------------ --- 8.1/8.9 MB 20.1 MB/s eta 0:00:01\n",
            "   ---------------------------------------- 8.9/8.9 MB 19.1 MB/s eta 0:00:00\n",
            "Downloading joblib-1.5.1-py3-none-any.whl (307 kB)\n",
            "Downloading scipy-1.15.3-cp310-cp310-win_amd64.whl (41.3 MB)\n",
            "   ---------------------------------------- 0.0/41.3 MB ? eta -:--:--\n",
            "   --- ------------------------------------ 3.7/41.3 MB 18.2 MB/s eta 0:00:03\n",
            "   ----- ---------------------------------- 6.0/41.3 MB 15.4 MB/s eta 0:00:03\n",
            "   -------- ------------------------------- 8.7/41.3 MB 14.5 MB/s eta 0:00:03\n",
            "   ---------- ----------------------------- 11.0/41.3 MB 13.8 MB/s eta 0:00:03\n",
            "   ------------ --------------------------- 13.1/41.3 MB 12.8 MB/s eta 0:00:03\n",
            "   ------------- -------------------------- 14.4/41.3 MB 11.8 MB/s eta 0:00:03\n",
            "   -------------- ------------------------- 15.2/41.3 MB 10.9 MB/s eta 0:00:03\n",
            "   --------------- ------------------------ 16.3/41.3 MB 9.9 MB/s eta 0:00:03\n",
            "   ----------------- ---------------------- 17.8/41.3 MB 9.6 MB/s eta 0:00:03\n",
            "   ------------------ --------------------- 19.1/41.3 MB 9.3 MB/s eta 0:00:03\n",
            "   -------------------- ------------------- 21.0/41.3 MB 9.2 MB/s eta 0:00:03\n",
            "   ---------------------- ----------------- 23.1/41.3 MB 9.3 MB/s eta 0:00:02\n",
            "   ------------------------ --------------- 25.4/41.3 MB 9.5 MB/s eta 0:00:02\n",
            "   -------------------------- ------------- 27.8/41.3 MB 9.6 MB/s eta 0:00:02\n",
            "   ---------------------------- ----------- 29.1/41.3 MB 9.5 MB/s eta 0:00:02\n",
            "   ----------------------------- ---------- 30.4/41.3 MB 9.3 MB/s eta 0:00:02\n",
            "   ------------------------------ --------- 31.7/41.3 MB 9.1 MB/s eta 0:00:02\n",
            "   ------------------------------- -------- 32.8/41.3 MB 8.9 MB/s eta 0:00:01\n",
            "   -------------------------------- ------- 33.6/41.3 MB 8.6 MB/s eta 0:00:01\n",
            "   --------------------------------- ------ 34.6/41.3 MB 8.5 MB/s eta 0:00:01\n",
            "   ---------------------------------- ----- 35.9/41.3 MB 8.3 MB/s eta 0:00:01\n",
            "   ------------------------------------ --- 37.2/41.3 MB 8.3 MB/s eta 0:00:01\n",
            "   ------------------------------------- -- 39.1/41.3 MB 8.2 MB/s eta 0:00:01\n",
            "   ---------------------------------------  41.2/41.3 MB 8.4 MB/s eta 0:00:01\n",
            "   ---------------------------------------- 41.3/41.3 MB 8.3 MB/s eta 0:00:00\n",
            "Downloading threadpoolctl-3.6.0-py3-none-any.whl (18 kB)\n",
            "Installing collected packages: threadpoolctl, scipy, joblib, scikit-learn\n",
            "\n",
            "   ---------- ----------------------------- 1/4 [scipy]\n",
            "   ---------- ----------------------------- 1/4 [scipy]\n",
            "   ---------- ----------------------------- 1/4 [scipy]\n",
            "   ---------- ----------------------------- 1/4 [scipy]\n",
            "   ---------- ----------------------------- 1/4 [scipy]\n",
            "   ---------- ----------------------------- 1/4 [scipy]\n",
            "   ---------- ----------------------------- 1/4 [scipy]\n",
            "   ---------- ----------------------------- 1/4 [scipy]\n",
            "   ---------- ----------------------------- 1/4 [scipy]\n",
            "   ---------- ----------------------------- 1/4 [scipy]\n",
            "   ---------- ----------------------------- 1/4 [scipy]\n",
            "   ---------- ----------------------------- 1/4 [scipy]\n",
            "   ---------- ----------------------------- 1/4 [scipy]\n",
            "   ---------- ----------------------------- 1/4 [scipy]\n",
            "   ---------- ----------------------------- 1/4 [scipy]\n",
            "   ---------- ----------------------------- 1/4 [scipy]\n",
            "   ---------- ----------------------------- 1/4 [scipy]\n",
            "   ---------- ----------------------------- 1/4 [scipy]\n",
            "   ---------- ----------------------------- 1/4 [scipy]\n",
            "   ---------- ----------------------------- 1/4 [scipy]\n",
            "   ---------- ----------------------------- 1/4 [scipy]\n",
            "   ---------- ----------------------------- 1/4 [scipy]\n",
            "   ---------- ----------------------------- 1/4 [scipy]\n",
            "   ---------- ----------------------------- 1/4 [scipy]\n",
            "   ---------- ----------------------------- 1/4 [scipy]\n",
            "   ---------- ----------------------------- 1/4 [scipy]\n",
            "   ---------- ----------------------------- 1/4 [scipy]\n",
            "   ---------- ----------------------------- 1/4 [scipy]\n",
            "   ---------- ----------------------------- 1/4 [scipy]\n",
            "   ---------- ----------------------------- 1/4 [scipy]\n",
            "   ---------- ----------------------------- 1/4 [scipy]\n",
            "   ---------- ----------------------------- 1/4 [scipy]\n",
            "   ---------- ----------------------------- 1/4 [scipy]\n",
            "   -------------------- ------------------- 2/4 [joblib]\n",
            "   -------------------- ------------------- 2/4 [joblib]\n",
            "   ------------------------------ --------- 3/4 [scikit-learn]\n",
            "   ------------------------------ --------- 3/4 [scikit-learn]\n",
            "   ------------------------------ --------- 3/4 [scikit-learn]\n",
            "   ------------------------------ --------- 3/4 [scikit-learn]\n",
            "   ------------------------------ --------- 3/4 [scikit-learn]\n",
            "   ------------------------------ --------- 3/4 [scikit-learn]\n",
            "   ------------------------------ --------- 3/4 [scikit-learn]\n",
            "   ------------------------------ --------- 3/4 [scikit-learn]\n",
            "   ------------------------------ --------- 3/4 [scikit-learn]\n",
            "   ------------------------------ --------- 3/4 [scikit-learn]\n",
            "   ------------------------------ --------- 3/4 [scikit-learn]\n",
            "   ------------------------------ --------- 3/4 [scikit-learn]\n",
            "   ------------------------------ --------- 3/4 [scikit-learn]\n",
            "   ------------------------------ --------- 3/4 [scikit-learn]\n",
            "   ------------------------------ --------- 3/4 [scikit-learn]\n",
            "   ------------------------------ --------- 3/4 [scikit-learn]\n",
            "   ------------------------------ --------- 3/4 [scikit-learn]\n",
            "   ------------------------------ --------- 3/4 [scikit-learn]\n",
            "   ------------------------------ --------- 3/4 [scikit-learn]\n",
            "   ------------------------------ --------- 3/4 [scikit-learn]\n",
            "   ------------------------------ --------- 3/4 [scikit-learn]\n",
            "   ---------------------------------------- 4/4 [scikit-learn]\n",
            "\n",
            "Successfully installed joblib-1.5.1 scikit-learn-1.7.1 scipy-1.15.3 threadpoolctl-3.6.0\n",
            "Note: you may need to restart the kernel to use updated packages.\n"
          ]
        }
      ],
      "source": [
        "%pip install scikit-learn\n",
        "\n",
        "# Setup\n",
        "import numpy as np\n",
        "import pandas as pd\n",
        "import matplotlib.pyplot as plt\n",
        "from pathlib import Path\n",
        "from sklearn.linear_model import LinearRegression\n",
        "from sklearn.metrics import mean_absolute_error, r2_score\n",
        "np.random.seed(17)"
      ]
    },
    {
      "cell_type": "markdown",
      "metadata": {},
      "source": [
        "## Load Data (provided or synthetic fallback)"
      ]
    },
    {
      "cell_type": "code",
      "execution_count": 4,
      "metadata": {},
      "outputs": [
        {
          "data": {
            "text/html": [
              "<div>\n",
              "<style scoped>\n",
              "    .dataframe tbody tr th:only-of-type {\n",
              "        vertical-align: middle;\n",
              "    }\n",
              "\n",
              "    .dataframe tbody tr th {\n",
              "        vertical-align: top;\n",
              "    }\n",
              "\n",
              "    .dataframe thead th {\n",
              "        text-align: right;\n",
              "    }\n",
              "</style>\n",
              "<table border=\"1\" class=\"dataframe\">\n",
              "  <thead>\n",
              "    <tr style=\"text-align: right;\">\n",
              "      <th></th>\n",
              "      <th>date</th>\n",
              "      <th>daily_return</th>\n",
              "      <th>daily_return_2</th>\n",
              "    </tr>\n",
              "  </thead>\n",
              "  <tbody>\n",
              "    <tr>\n",
              "      <th>0</th>\n",
              "      <td>2022-01-03</td>\n",
              "      <td>0.001263</td>\n",
              "      <td>0.003834</td>\n",
              "    </tr>\n",
              "    <tr>\n",
              "      <th>1</th>\n",
              "      <td>2022-01-04</td>\n",
              "      <td>-0.020046</td>\n",
              "      <td>-0.009506</td>\n",
              "    </tr>\n",
              "    <tr>\n",
              "      <th>2</th>\n",
              "      <td>2022-01-05</td>\n",
              "      <td>0.004739</td>\n",
              "      <td>-0.000535</td>\n",
              "    </tr>\n",
              "    <tr>\n",
              "      <th>3</th>\n",
              "      <td>2022-01-06</td>\n",
              "      <td>0.009953</td>\n",
              "      <td>0.012539</td>\n",
              "    </tr>\n",
              "    <tr>\n",
              "      <th>4</th>\n",
              "      <td>2022-01-07</td>\n",
              "      <td>0.008872</td>\n",
              "      <td>0.009840</td>\n",
              "    </tr>\n",
              "  </tbody>\n",
              "</table>\n",
              "</div>"
            ],
            "text/plain": [
              "         date  daily_return  daily_return_2\n",
              "0  2022-01-03      0.001263        0.003834\n",
              "1  2022-01-04     -0.020046       -0.009506\n",
              "2  2022-01-05      0.004739       -0.000535\n",
              "3  2022-01-06      0.009953        0.012539\n",
              "4  2022-01-07      0.008872        0.009840"
            ]
          },
          "execution_count": 4,
          "metadata": {},
          "output_type": "execute_result"
        }
      ],
      "source": [
        "data_path = Path('data/raw/outliers_homework.csv')\n",
        "if data_path.exists():\n",
        "    df = pd.read_csv(data_path)\n",
        "else:\n",
        "    # Synthetic fallback: linear trend with noise and a few extremes\n",
        "    x = np.linspace(0, 10, 200)\n",
        "    y = 2.2 * x + 1 + np.random.normal(0, 1.2, size=x.size)\n",
        "    y[10] += 15; y[120] -= 13; y[160] += 18\n",
        "    df = pd.DataFrame({'x': x, 'y': y})\n",
        "df.head()"
      ]
    },
    {
      "cell_type": "markdown",
      "metadata": {},
      "source": [
        "## TODO: Implement Outlier Functions (required)"
      ]
    },
    {
      "cell_type": "code",
      "execution_count": 5,
      "metadata": {
        "tags": [
          "grade_required"
        ]
      },
      "outputs": [],
      "source": [
        "def detect_outliers_iqr(series: pd.Series, k: float = 1.5) -> pd.Series:\n",
        "    \"\"\"Return boolean mask for IQR-based outliers.\n",
        "    Assumptions: distribution reasonably summarized by quartiles; k controls strictness.\n",
        "    \"\"\"\n",
        "    q1 = series.quantile(0.25)\n",
        "    q3 = series.quantile(0.75)\n",
        "    iqr = q3 - q1\n",
        "    lower = q1 - k * iqr\n",
        "    upper = q3 + k * iqr\n",
        "    return (series < lower) | (series > upper)\n",
        "\n",
        "def detect_outliers_zscore(series: pd.Series, threshold: float = 3.0) -> pd.Series:\n",
        "    \"\"\"Return boolean mask for Z-score outliers where |z| > threshold.\n",
        "    Assumptions: roughly normal distribution; sensitive to heavy tails.\n",
        "    \"\"\"\n",
        "    mu = series.mean()\n",
        "    sigma = series.std(ddof=0)\n",
        "    z = (series - mu) / (sigma if sigma != 0 else 1.0)\n",
        "    return z.abs() > threshold"
      ]
    },
    {
      "cell_type": "markdown",
      "metadata": {},
      "source": [
        "*(Stretch)* Implement winsorizing (optional)."
      ]
    },
    {
      "cell_type": "code",
      "execution_count": 6,
      "metadata": {
        "tags": [
          "stretch"
        ]
      },
      "outputs": [],
      "source": [
        "def winsorize_series(series: pd.Series, lower: float = 0.05, upper: float = 0.95) -> pd.Series:\n",
        "    lo = series.quantile(lower)\n",
        "    hi = series.quantile(upper)\n",
        "    return series.clip(lower=lo, upper=hi)"
      ]
    },
    {
      "cell_type": "code",
      "execution_count": 7,
      "id": "535ce926",
      "metadata": {},
      "outputs": [],
      "source": [
        "def detect_outliers_iqr(series: pd.Series, k: float = 1.5) -> pd.Series:\n",
        "    \"\"\"\n",
        "    Return boolean mask for IQR-based outliers.\n",
        "    Flags values outside [Q1 − k*IQR, Q3 + k*IQR].\n",
        "    Assumptions: Distribution can be reasonably summarized by quartiles. \n",
        "    The k parameter controls strictness (default 1.5).\n",
        "    \"\"\"\n",
        "    q1 = series.quantile(0.25)\n",
        "    q3 = series.quantile(0.75)\n",
        "    iqr = q3 - q1\n",
        "    lower = q1 - k * iqr\n",
        "    upper = q3 + k * iqr\n",
        "    return (series < lower) | (series > upper)\n",
        "\n",
        "def detect_outliers_zscore(series: pd.Series, threshold: float = 3.0) -> pd.Series:\n",
        "    \"\"\"\n",
        "    Return boolean mask for Z-score-based outliers (|z| > threshold).\n",
        "    Assumptions: Distribution is roughly normal; sensitive to outliers in heavy-tailed distributions.\n",
        "    \"\"\"\n",
        "    mu = series.mean()\n",
        "    sigma = series.std(ddof=0)\n",
        "    z = (series - mu) / (sigma if sigma != 0 else 1.0)\n",
        "    return z.abs() > threshold\n",
        "\n",
        "def winsorize_series(series: pd.Series, lower: float = 0.05, upper: float = 0.95) -> pd.Series:\n",
        "    \"\"\"\n",
        "    Winsorize a pandas Series: clamp values below lower quantile, above upper quantile.\n",
        "    \"\"\"\n",
        "    lo = series.quantile(lower)\n",
        "    hi = series.quantile(upper)\n",
        "    return series.clip(lower=lo, upper=hi)\n"
      ]
    },
    {
      "cell_type": "markdown",
      "metadata": {},
      "source": [
        "## Apply Detection and Create Flags (choose a numeric column)"
      ]
    },
    {
      "cell_type": "code",
      "execution_count": 19,
      "id": "0b630a3e",
      "metadata": {},
      "outputs": [
        {
          "name": "stdout",
          "output_type": "stream",
          "text": [
            "daily_return - IQR outliers: 0.078, Z-score outliers: 0.043\n",
            "daily_return_2 - IQR outliers: 0.061, Z-score outliers: 0.043\n"
          ]
        }
      ],
      "source": [
        "for col in df.select_dtypes(include=['number']).columns:\n",
        "    df[f'outlier_iqr_{col}'] = detect_outliers_iqr(df[col])\n",
        "    df[f'outlier_z_{col}'] = detect_outliers_zscore(df[col], threshold=3.0)\n",
        "\n",
        "# Example: check fractions for each column\n",
        "for col in df.select_dtypes(include=['number']).columns:\n",
        "    print(f\"{col} - IQR outliers: {df[f'outlier_iqr_{col}'].mean():.3f}, \"\n",
        "          f\"Z-score outliers: {df[f'outlier_z_{col}'].mean():.3f}\")\n"
      ]
    },
    {
      "cell_type": "code",
      "execution_count": null,
      "id": "4ea1349a",
      "metadata": {},
      "outputs": [],
      "source": [
        "### Visual Checks (boxplot / histogram)"
      ]
    },
    {
      "cell_type": "code",
      "execution_count": 9,
      "metadata": {},
      "outputs": [
        {
          "data": {
            "image/png": "[encoded data removed]",
            "text/plain": [
              "<Figure size 640x480 with 1 Axes>"
            ]
          },
          "metadata": {},
          "output_type": "display_data"
        },
        {
          "data": {
            "image/png": "[encoded data removed]",
            "text/plain": [
              "<Figure size 640x480 with 1 Axes>"
            ]
          },
          "metadata": {},
          "output_type": "display_data"
        }
      ],
      "source": [
        "plt.figure()\n",
        "plt.boxplot(df[target_col])\n",
        "plt.title(f'Boxplot: {target_col}')\n",
        "plt.show()\n",
        "\n",
        "plt.figure()\n",
        "plt.hist(df[target_col], bins=30)\n",
        "plt.title(f'Histogram: {target_col}')\n",
        "plt.show()"
      ]
    },
    {
      "cell_type": "markdown",
      "metadata": {},
      "source": [
        "## Sensitivity Analysis\n",
        "Pick one: summary stats or simple linear regression comparing **all vs. filtered** (and optional winsorized)."
      ]
    },
    {
      "cell_type": "code",
      "execution_count": 15,
      "metadata": {
        "tags": [
          "grade_required"
        ]
      },
      "outputs": [
        {
          "data": {
            "text/html": [
              "<div>\n",
              "<style scoped>\n",
              "    .dataframe tbody tr th:only-of-type {\n",
              "        vertical-align: middle;\n",
              "    }\n",
              "\n",
              "    .dataframe tbody tr th {\n",
              "        vertical-align: top;\n",
              "    }\n",
              "\n",
              "    .dataframe thead tr th {\n",
              "        text-align: left;\n",
              "    }\n",
              "</style>\n",
              "<table border=\"1\" class=\"dataframe\">\n",
              "  <thead>\n",
              "    <tr>\n",
              "      <th></th>\n",
              "      <th colspan=\"2\" halign=\"left\">all</th>\n",
              "      <th colspan=\"2\" halign=\"left\">filtered_iqr</th>\n",
              "      <th colspan=\"2\" halign=\"left\">winsorized</th>\n",
              "    </tr>\n",
              "    <tr>\n",
              "      <th></th>\n",
              "      <th>daily_return</th>\n",
              "      <th>daily_return_2</th>\n",
              "      <th>daily_return</th>\n",
              "      <th>daily_return_2</th>\n",
              "      <th>daily_return</th>\n",
              "      <th>daily_return_2</th>\n",
              "    </tr>\n",
              "  </thead>\n",
              "  <tbody>\n",
              "    <tr>\n",
              "      <th>mean</th>\n",
              "      <td>-0.001434</td>\n",
              "      <td>-0.000668</td>\n",
              "      <td>-0.000039</td>\n",
              "      <td>-0.000072</td>\n",
              "      <td>-0.000251</td>\n",
              "      <td>-0.000181</td>\n",
              "    </tr>\n",
              "    <tr>\n",
              "      <th>median</th>\n",
              "      <td>-0.000187</td>\n",
              "      <td>-0.000174</td>\n",
              "      <td>-0.000100</td>\n",
              "      <td>-0.000173</td>\n",
              "      <td>-0.000187</td>\n",
              "      <td>-0.000174</td>\n",
              "    </tr>\n",
              "    <tr>\n",
              "      <th>std</th>\n",
              "      <td>0.040579</td>\n",
              "      <td>0.025068</td>\n",
              "      <td>0.009443</td>\n",
              "      <td>0.007353</td>\n",
              "      <td>0.010623</td>\n",
              "      <td>0.008312</td>\n",
              "    </tr>\n",
              "  </tbody>\n",
              "</table>\n",
              "</div>"
            ],
            "text/plain": [
              "                all                filtered_iqr                  winsorized  \\\n",
              "       daily_return daily_return_2 daily_return daily_return_2 daily_return   \n",
              "mean      -0.001434      -0.000668    -0.000039      -0.000072    -0.000251   \n",
              "median    -0.000187      -0.000174    -0.000100      -0.000173    -0.000187   \n",
              "std        0.040579       0.025068     0.009443       0.007353     0.010623   \n",
              "\n",
              "                       \n",
              "       daily_return_2  \n",
              "mean        -0.000181  \n",
              "median      -0.000174  \n",
              "std          0.008312  "
            ]
          },
          "execution_count": 15,
          "metadata": {},
          "output_type": "execute_result"
        }
      ],
      "source": [
        "# Option A: Summary stats\n",
        "summ_all = df[target_col].describe().loc[['mean', '50%', 'std']].rename({'50%': 'median'})\n",
        "\n",
        "# If target_col is an Index (multiple columns), create outlier flags for each\n",
        "if isinstance(target_col, pd.Index):\n",
        "    mask = pd.DataFrame({col: ~detect_outliers_iqr(df[col]) for col in target_col})\n",
        "    summ_filtered = df[target_col][mask.all(axis=1)].describe().loc[['mean', '50%', 'std']].rename({'50%': 'median'})\n",
        "    if 'winsorize_series' in globals():\n",
        "        w = pd.DataFrame({col: winsorize_series(df[col]) for col in target_col})\n",
        "        summ_w = w.describe().loc[['mean', '50%', 'std']].rename({'50%': 'median'})\n",
        "    else:\n",
        "        summ_w = None\n",
        "else:\n",
        "    summ_filtered = df.loc[~df['outlier_iqr'], target_col].describe().loc[['mean', '50%', 'std']].rename({'50%': 'median'})\n",
        "    if 'winsorize_series' in globals():\n",
        "        w = winsorize_series(df[target_col])\n",
        "        summ_w = w.describe().loc[['mean', '50%', 'std']].rename({'50%': 'median'})\n",
        "    else:\n",
        "        summ_w = None\n",
        "\n",
        "comp = pd.concat(\n",
        "    {\n",
        "        'all': summ_all,\n",
        "        'filtered_iqr': summ_filtered,\n",
        "        **({'winsorized': summ_w} if summ_w is not None else {})\n",
        "    }, axis=1\n",
        ")\n",
        "comp"
      ]
    },
    {
      "cell_type": "code",
      "execution_count": 18,
      "id": "f16e44fd",
      "metadata": {},
      "outputs": [
        {
          "name": "stdout",
          "output_type": "stream",
          "text": [
            "No 'x' column; skipping regression.\n"
          ]
        }
      ],
      "source": [
        "from sklearn.linear_model import LinearRegression\n",
        "from sklearn.metrics import mean_absolute_error, r2_score\n",
        "\n",
        "if 'x' in df.columns:\n",
        "    X_all = df[['x']].to_numpy(); y_all = df[target_col].to_numpy()\n",
        "    X_filtered = df.loc[~df['outlier_iqr'], ['x']].to_numpy(); y_filtered = df.loc[~df['outlier_iqr'], target_col].to_numpy()\n",
        "    model_all = LinearRegression().fit(X_all, y_all)\n",
        "    model_flt = LinearRegression().fit(X_filtered, y_filtered)\n",
        "    mae_all = mean_absolute_error(y_all, model_all.predict(X_all))\n",
        "    mae_flt = mean_absolute_error(y_filtered, model_flt.predict(X_filtered))\n",
        "    results = pd.DataFrame({\n",
        "        'slope': [model_all.coef_, model_flt.coef_],\n",
        "        'intercept': [model_all.intercept_, model_flt.intercept_],\n",
        "        'r2': [model_all.score(X_all, y_all), model_flt.score(X_filtered, y_filtered)],\n",
        "        'mae': [mae_all, mae_flt]\n",
        "    }, index=['all', 'filtered_iqr'])\n",
        "    display(results)\n",
        "else:\n",
        "    print(\"No 'x' column; skipping regression.\")\n"
      ]
    },
    {
      "cell_type": "markdown",
      "metadata": {},
      "source": [
        "### Reflection (≤ 1 page)\n",
        "- Methods and thresholds used (and why)\n",
        "- Assumptions behind choices\n",
        "- Observed impact on results\n",
        "- Risks if assumptions are wrong (e.g., discarding true events)"
      ]
    },
    {
      "cell_type": "markdown",
      "metadata": {},
      "source": [
        "Methods and thresholds: Used both IQR (k=1.5) and Z-score (threshold=3.0) for outlier detection. IQR was chosen for its robustness to non-normal distributions, while Z-score applies when normality is assumed.\n",
        "\n",
        "Assumptions: IQR assumes the central 50% of the data represents typical variation and is less sensitive to extreme values. Z-score assumes a roughly normal distribution, which may not hold for all financial return data.\n",
        "\n",
        "Impact: Mean and standard deviation were significantly reduced after filtering, showing the influence that outliers have on key metrics. If the data contained genuine shocks (e.g., market crashes), their removal may mask risk.\n",
        "\n",
        "Risks: Improperly removing valid extreme values may lead to underestimating volatility or risk. Conversely, keeping measurement errors can skew modeling results and decisions."
      ]
    }
  ],
  "metadata": {
    "kernelspec": {
      "display_name": "bootcamp_env",
      "language": "python",
      "name": "python3"
    },
    "language_info": {
      "codemirror_mode": {
        "name": "ipython",
        "version": 3
      },
      "file_extension": ".py",
      "mimetype": "text/x-python",
      "name": "python",
      "nbconvert_exporter": "python",
      "pygments_lexer": "ipython3",
      "version": "3.10.18"
    }
  },
  "nbformat": 4,
  "nbformat_minor": 5
}
