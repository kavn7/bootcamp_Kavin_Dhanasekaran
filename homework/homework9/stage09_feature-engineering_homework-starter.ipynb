{
 "cells": [
  {
   "cell_type": "markdown",
   "metadata": {},
   "source": [
    "# Stage 09 — Homework Starter Notebook\n",
    "\n",
    "In the lecture, we learned how to create engineered features. Now it’s your turn to apply those ideas to your own project data."
   ]
  },
  {
   "cell_type": "code",
   "execution_count": 1,
   "metadata": {},
   "outputs": [
    {
     "data": {
      "text/html": [
       "<div>\n",
       "<style scoped>\n",
       "    .dataframe tbody tr th:only-of-type {\n",
       "        vertical-align: middle;\n",
       "    }\n",
       "\n",
       "    .dataframe tbody tr th {\n",
       "        vertical-align: top;\n",
       "    }\n",
       "\n",
       "    .dataframe thead th {\n",
       "        text-align: right;\n",
       "    }\n",
       "</style>\n",
       "<table border=\"1\" class=\"dataframe\">\n",
       "  <thead>\n",
       "    <tr style=\"text-align: right;\">\n",
       "      <th></th>\n",
       "      <th>income</th>\n",
       "      <th>monthly_spend</th>\n",
       "      <th>credit_score</th>\n",
       "    </tr>\n",
       "  </thead>\n",
       "  <tbody>\n",
       "    <tr>\n",
       "      <th>0</th>\n",
       "      <td>86460</td>\n",
       "      <td>3129</td>\n",
       "      <td>661</td>\n",
       "    </tr>\n",
       "    <tr>\n",
       "      <th>1</th>\n",
       "      <td>66002</td>\n",
       "      <td>1191</td>\n",
       "      <td>668</td>\n",
       "    </tr>\n",
       "    <tr>\n",
       "      <th>2</th>\n",
       "      <td>74681</td>\n",
       "      <td>1237</td>\n",
       "      <td>734</td>\n",
       "    </tr>\n",
       "    <tr>\n",
       "      <th>3</th>\n",
       "      <td>93613</td>\n",
       "      <td>2581</td>\n",
       "      <td>712</td>\n",
       "    </tr>\n",
       "    <tr>\n",
       "      <th>4</th>\n",
       "      <td>88013</td>\n",
       "      <td>1296</td>\n",
       "      <td>712</td>\n",
       "    </tr>\n",
       "  </tbody>\n",
       "</table>\n",
       "</div>"
      ],
      "text/plain": [
       "   income  monthly_spend  credit_score\n",
       "0   86460           3129           661\n",
       "1   66002           1191           668\n",
       "2   74681           1237           734\n",
       "3   93613           2581           712\n",
       "4   88013           1296           712"
      ]
     },
     "execution_count": 1,
     "metadata": {},
     "output_type": "execute_result"
    }
   ],
   "source": [
    "import pandas as pd\n",
    "import numpy as np\n",
    "\n",
    "# Example synthetic data (replace with your project dataset)\n",
    "np.random.seed(0)\n",
    "n = 100\n",
    "df = pd.DataFrame({\n",
    "    'income': np.random.normal(60000, 15000, n).astype(int),\n",
    "    'monthly_spend': np.random.normal(2000, 600, n).astype(int),\n",
    "    'credit_score': np.random.normal(680, 50, n).astype(int)\n",
    "})\n",
    "df.head()"
   ]
  },
  {
   "cell_type": "markdown",
   "metadata": {},
   "source": [
    "## TODO: Implement at least 2 engineered features here"
   ]
  },
  {
   "cell_type": "code",
   "execution_count": 2,
   "metadata": {},
   "outputs": [],
   "source": [
    "# Example template:\n",
    "df['spend_income_ratio'] = df['monthly_spend'] / df['income']  # TODO: Your feature\n",
    "# Add rationale in markdown below"
   ]
  },
  {
   "cell_type": "code",
   "execution_count": 3,
   "id": "600a6f21",
   "metadata": {},
   "outputs": [],
   "source": [
    "# Feature 1: Spend-to-Income Ratio\n",
    "df['spend_income_ratio'] = df['monthly_spend'] / df['income']\n",
    "\n",
    "# Feature 2: Credit Utilization Score (Example: ratio of monthly spend to credit score)\n",
    "df['spend_credit_score_ratio'] = df['monthly_spend'] / df['credit_score']\n",
    "\n",
    "# Feature 3: Rolling Mean of Spend\n",
    "df['rolling_spend_mean'] = df['monthly_spend'].rolling(window=3).mean()\n"
   ]
  },
  {
   "cell_type": "markdown",
   "metadata": {},
   "source": [
    "### Rationale for Feature 1\n",
    "Explain why this feature may help a model. Reference your EDA."
   ]
  },
  {
   "cell_type": "markdown",
   "id": "ba555941",
   "metadata": {},
   "source": [
    "### Rationale for Feature 1\n",
    "The 'spend_income_ratio' feature captures the proportion of monthly spending relative to total income. This can help differentiate between individuals with similar incomes but varying spending behaviors, potentially improving predictive model performance.\n"
   ]
  },
  {
   "cell_type": "code",
   "execution_count": null,
   "metadata": {},
   "outputs": [],
   "source": [
    "# TODO: Add another feature\n",
    "# Example: df['rolling_spend_mean'] = df['monthly_spend'].rolling(3).mean()"
   ]
  },
  {
   "cell_type": "markdown",
   "metadata": {},
   "source": [
    "### Rationale for Feature 2\n",
    "Explain why this feature may help a model. Reference your EDA."
   ]
  },
  {
   "cell_type": "markdown",
   "id": "9ecda601",
   "metadata": {},
   "source": [
    "### Rationale for Feature 2\n",
    "The 'spend_credit_score_ratio' feature helps highlight cases where high spenders may also have low credit scores, which could indicate risky financial behavior or potential default, relevant for credit risk modeling."
   ]
  },
  {
   "cell_type": "code",
   "execution_count": 5,
   "id": "7dfc71a1",
   "metadata": {},
   "outputs": [
    {
     "data": {
      "image/png": "[encoded data removed]",
      "text/plain": [
       "<Figure size 640x480 with 1 Axes>"
      ]
     },
     "metadata": {},
     "output_type": "display_data"
    }
   ],
   "source": [
    "import matplotlib.pyplot as plt\n",
    "df['spend_income_ratio'].hist()\n",
    "plt.title('Distribution of Spend-Income Ratio')\n",
    "plt.show()\n",
    "\n",
    "# If you have a target variable, uncomment and ensure it exists in df:\n",
    "# print(df[['spend_income_ratio', 'target_variable']].corr())\n"
   ]
  }
 ],
 "metadata": {
  "kernelspec": {
   "display_name": "bootcamp_env",
   "language": "python",
   "name": "python3"
  },
  "language_info": {
   "codemirror_mode": {
    "name": "ipython",
    "version": 3
   },
   "file_extension": ".py",
   "mimetype": "text/x-python",
   "name": "python",
   "nbconvert_exporter": "python",
   "pygments_lexer": "ipython3",
   "version": "3.10.18"
  }
 },
 "nbformat": 4,
 "nbformat_minor": 5
}
