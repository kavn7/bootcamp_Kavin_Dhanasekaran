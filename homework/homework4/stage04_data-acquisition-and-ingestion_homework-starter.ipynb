{
 "cells": [
  {
   "cell_type": "markdown",
   "metadata": {},
   "source": [
    "# Homework Starter — Stage 04: Data Acquisition and Ingestion\n",
    "Name: \n",
    "Date: \n",
    "\n",
    "## Objectives\n",
    "- API ingestion with secrets in `.env`\n",
    "- Scrape a permitted public table\n",
    "- Validate and save raw data to `data/raw/`"
   ]
  },
  {
   "cell_type": "code",
   "execution_count": 1,
   "metadata": {},
   "outputs": [
    {
     "name": "stdout",
     "output_type": "stream",
     "text": [
      "ALPHAVANTAGE_API_KEY loaded? True\n"
     ]
    }
   ],
   "source": [
    "import os, pathlib, datetime as dt\n",
    "import requests\n",
    "import pandas as pd\n",
    "from bs4 import BeautifulSoup\n",
    "from dotenv import load_dotenv\n",
    "\n",
    "RAW = pathlib.Path('data/raw'); RAW.mkdir(parents=True, exist_ok=True)\n",
    "load_dotenv(); print('ALPHAVANTAGE_API_KEY loaded?', bool(os.getenv('ALPHAVANTAGE_API_KEY')))"
   ]
  },
  {
   "cell_type": "markdown",
   "metadata": {},
   "source": [
    "## Helpers (use or modify)"
   ]
  },
  {
   "cell_type": "code",
   "execution_count": 3,
   "metadata": {},
   "outputs": [],
   "source": [
    "def ts():\n",
    "    return dt.datetime.now().strftime('%Y%m%d-%H%M%S')\n",
    "\n",
    "def save_csv(df: pd.DataFrame, prefix: str, **meta):\n",
    "    mid = '_'.join([f\"{k}-{v}\" for k,v in meta.items()])\n",
    "    path = RAW / f\"{prefix}_{mid}_{ts()}.csv\"\n",
    "    df.to_csv(path, index=False)\n",
    "    print('Saved', path)\n",
    "    return path\n",
    "\n",
    "def validate(df: pd.DataFrame, required):\n",
    "    missing = [c for c in required if c not in df.columns]\n",
    "    return {'missing': missing, 'shape': df.shape, 'na_total': int(df.isna().sum().sum())}"
   ]
  },
  {
   "cell_type": "markdown",
   "metadata": {},
   "source": [
    "## Part 1 — API Pull (Required)\n",
    "Choose an endpoint (e.g., Alpha Vantage or use `yfinance` fallback)."
   ]
  },
  {
   "cell_type": "code",
   "execution_count": 2,
   "id": "f2c744c6",
   "metadata": {},
   "outputs": [],
   "source": [
    "import os\n",
    "import requests\n",
    "import pandas as pd"
   ]
  },
  {
   "cell_type": "code",
   "execution_count": 5,
   "metadata": {},
   "outputs": [
    {
     "name": "stdout",
     "output_type": "stream",
     "text": [
      "{'Information': 'Thank you for using Alpha Vantage! This is a premium endpoint. You may subscribe to any of the premium plans at https://www.alphavantage.co/premium/ to instantly unlock all premium endpoints'}\n",
      "Error: \"Time Series\" key not found in API response. Full response: {'Information': 'Thank you for using Alpha Vantage! This is a premium endpoint. You may subscribe to any of the premium plans at https://www.alphavantage.co/premium/ to instantly unlock all premium endpoints'}\n"
     ]
    },
    {
     "data": {
      "text/plain": [
       "{'missing': [], 'shape': (0, 2), 'na_total': 0}"
      ]
     },
     "execution_count": 5,
     "metadata": {},
     "output_type": "execute_result"
    }
   ],
   "source": [
    "SYMBOL = 'AAPL'\n",
    "USE_ALPHA = bool(os.getenv('ALPHAVANTAGE_API_KEY'))\n",
    "os.environ['ALPHAVANTAGE_API_KEY'] = \"APPL\"\n",
    "def validate(df: pd.DataFrame, required):\n",
    "    missing = [c for c in required if c not in df.columns]\n",
    "    return {'missing': missing, 'shape': df.shape, 'na_total': int(df.isna().sum().sum())}\n",
    "if USE_ALPHA:\n",
    "    url = 'https://www.alphavantage.co/query'\n",
    "    params = {'function':'TIME_SERIES_DAILY_ADJUSTED','symbol':SYMBOL,'outputsize':'compact','apikey':os.getenv('ALPHAVANTAGE_API_KEY')}\n",
    "    r = requests.get(url, params=params, timeout=30)\n",
    "    r.raise_for_status()\n",
    "    js = r.json()\n",
    "    print(js)\n",
    "\n",
    "    keys = [k for k in js if 'Time Series' in k]\n",
    "    if not keys:\n",
    "        print('Error: \"Time Series\" key not found in API response. Full response:', js)\n",
    "        df_api = pd.DataFrame(columns=['date','adj_close'])\n",
    "    else:\n",
    "        key = keys[0]\n",
    "        df_api = pd.DataFrame(js[key]).T.reset_index().rename(columns={'index':'date','5. adjusted close':'adj_close'})[['date','adj_close']]\n",
    "        df_api['date'] = pd.to_datetime(df_api['date']); df_api['adj_close'] = pd.to_numeric(df_api['adj_close'])\n",
    "else:\n",
    "    import yfinance as yf\n",
    "    df_api = yf.download(SYMBOL, period='3mo', interval='1d').reset_index()[['Date','Adj Close']]\n",
    "    df_api.columns = ['date','adj_close']\n",
    "\n",
    "v_api = validate(df_api, ['date','adj_close']); v_api\n"
   ]
  },
  {
   "cell_type": "code",
   "execution_count": 10,
   "metadata": {},
   "outputs": [
    {
     "name": "stdout",
     "output_type": "stream",
     "text": [
      "✅ Saved CSV to: raw\\api_source-alpha_symbol-AAPL_20250820_101956.csv\n"
     ]
    }
   ],
   "source": [
    "import os\n",
    "from pathlib import Path\n",
    "from datetime import datetime\n",
    "import pandas as pd\n",
    "\n",
    "# Define base folder for saving\n",
    "RAW = Path(\"raw\")\n",
    "RAW.mkdir(parents=True, exist_ok=True)   # create folder if missing\n",
    "\n",
    "# Timestamp helper\n",
    "def ts(fmt: str = \"%Y%m%d_%H%M%S\") -> str:\n",
    "    \"\"\"Return current timestamp as string.\"\"\"\n",
    "    return datetime.now().strftime(fmt)\n",
    "\n",
    "def save_csv(df: pd.DataFrame, prefix: str, **meta) -> Path:\n",
    "    \"\"\"\n",
    "    Save a DataFrame to a timestamped CSV file inside RAW folder.\n",
    "    \n",
    "    Args:\n",
    "        df (pd.DataFrame): The dataframe to save.\n",
    "        prefix (str): Prefix for the filename.\n",
    "        **meta: Additional metadata (key=value) that will be embedded in the filename.\n",
    "    \n",
    "    Returns:\n",
    "        Path: Full path of the saved CSV file.\n",
    "    \"\"\"\n",
    "    # Clean metadata into filename-friendly string\n",
    "    mid = \"_\".join([f\"{k}-{v}\" for k, v in meta.items() if v is not None])\n",
    "\n",
    "    # Build filename and path\n",
    "    filename = f\"{prefix}_{mid}_{ts()}.csv\"\n",
    "    path = RAW / filename\n",
    "\n",
    "    # Save CSV\n",
    "    df.to_csv(path, index=False)\n",
    "\n",
    "    print(f\"✅ Saved CSV to: {path}\")\n",
    "    return path\n",
    "\n",
    "\n",
    "# ---------------- Example Usage ----------------\n",
    "# Assuming df_api already exists\n",
    "_ = save_csv(\n",
    "    df_api.sort_values('date'),\n",
    "    prefix=\"api\",\n",
    "    source=\"alpha\" if USE_ALPHA else \"yfinance\",\n",
    "    symbol=SYMBOL\n",
    ")"
   ]
  },
  {
   "cell_type": "markdown",
   "metadata": {},
   "source": [
    "## Part 2 — Scrape a Public Table (Required)\n",
    "Replace `SCRAPE_URL` with a permitted page containing a simple table."
   ]
  },
  {
   "cell_type": "code",
   "execution_count": 13,
   "metadata": {},
   "outputs": [],
   "source": [
    "def scrape_table(url: str, demo_html: str = None) -> pd.DataFrame:\n",
    "    \"\"\"\n",
    "    Scrape the first <table> found at the given URL into a DataFrame.\n",
    "    Falls back to demo_html if scraping fails.\n",
    "    \"\"\"\n",
    "    try:\n",
    "        resp = requests.get(url, headers=headers, timeout=30)\n",
    "        resp.raise_for_status()\n",
    "        soup = BeautifulSoup(resp.text, \"html.parser\")\n",
    "        print(f\"✅ Successfully scraped: {url}\")\n",
    "    except Exception as e:\n",
    "        print(f\"⚠️ Scrape failed: {e}\")\n",
    "        if not demo_html:\n",
    "            return pd.DataFrame()\n",
    "        print(\"↩️ Using inline demo table as fallback.\")\n",
    "        soup = BeautifulSoup(demo_html, \"html.parser\")\n",
    "\n",
    "    rows = [\n",
    "        [c.get_text(strip=True) for c in tr.find_all([\"th\", \"td\"])]\n",
    "        for tr in soup.find_all(\"tr\")\n",
    "    ]\n",
    "    rows = [r for r in rows if r]\n",
    "\n",
    "    if not rows:\n",
    "        print(\"⚠️ No rows found in table.\")\n",
    "        return pd.DataFrame()\n",
    "\n",
    "    header, *data = rows\n",
    "    df = pd.DataFrame(data, columns=header)\n",
    "\n",
    "    # Safe numeric conversion (no FutureWarning)\n",
    "    for col in df.columns:\n",
    "        try:\n",
    "            df[col] = pd.to_numeric(df[col])\n",
    "        except Exception:\n",
    "            pass  # keep as string if not numeric\n",
    "\n",
    "    return df\n"
   ]
  },
  {
   "cell_type": "code",
   "execution_count": 14,
   "metadata": {},
   "outputs": [
    {
     "name": "stdout",
     "output_type": "stream",
     "text": [
      "✅ Saved CSV to: raw\\scrape_site-example_table-markets_20250820_102311.csv\n"
     ]
    }
   ],
   "source": [
    "_ = save_csv(df_scrape, prefix='scrape', site='example', table='markets')"
   ]
  },
  {
   "cell_type": "markdown",
   "metadata": {},
   "source": [
    "## Documentation\n",
    "- API Source: (URL/endpoint/params)\n",
    "- Scrape Source: (URL/table description)\n",
    "- Assumptions & risks: (rate limits, selector fragility, schema changes)\n",
    "- Confirm `.env` is not committed."
   ]
  }
 ],
 "metadata": {
  "kernelspec": {
   "display_name": "market-data",
   "language": "python",
   "name": "python3"
  },
  "language_info": {
   "codemirror_mode": {
    "name": "ipython",
    "version": 3
   },
   "file_extension": ".py",
   "mimetype": "text/x-python",
   "name": "python",
   "nbconvert_exporter": "python",
   "pygments_lexer": "ipython3",
   "version": "3.11.13"
  }
 },
 "nbformat": 4,
 "nbformat_minor": 5
}
