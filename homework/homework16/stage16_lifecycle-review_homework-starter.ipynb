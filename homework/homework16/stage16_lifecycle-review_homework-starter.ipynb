{
 "cells": [
  {
   "cell_type": "markdown",
   "metadata": {},
   "source": [
    "# Stage 16 Homework Starter\n",
    "\n",
    "This notebook is a starting point for polishing your final repo and lifecycle mapping."
   ]
  },
  {
   "cell_type": "markdown",
   "metadata": {},
   "source": [
    "## Checklist Template\n",
    " - Add checklist elements, as in the examples below, to make sure you cover everything you would like to accomplish\n",
    "- Update this checklist as you finalize your repo."
   ]
  },
  {
   "cell_type": "code",
   "execution_count": 1,
   "metadata": {},
   "outputs": [],
   "source": [
    "import os\n",
    "import time\n",
    "import requests\n",
    "import pandas as pd\n",
    "from dotenv import load_dotenv\n",
    "from datetime import datetime\n",
    "import yfinance as yf\n",
    "\n",
    "def ingest_stock_data(symbol=\"CVNA\", start_date=\"2023-01-01\", resolution=\"D\", output_dir=\"data/raw\"):\n",
    "    load_dotenv()\n",
    "    api_key = os.getenv(\"FINNHUB_API_KEY\")\n",
    "    \n",
    "    from_ts = int(time.mktime(time.strptime(start_date, \"%Y-%m-%d\")))\n",
    "    to_ts = int(time.time())\n",
    "    \n",
    "    url = \"https://finnhub.io/api/v1/stock/candle\"\n",
    "    params = {\n",
    "        \"symbol\": symbol,\n",
    "        \"resolution\": resolution,\n",
    "        \"from\": from_ts,\n",
    "        \"to\": to_ts,\n",
    "        \"token\": api_key\n",
    "    }\n",
    "    \n",
    "    print(f\"🔄 Attempting Finnhub API for {symbol}...\")\n",
    "    try:\n",
    "        response = requests.get(url, params=params)\n",
    "        data = response.json()\n",
    "        if data.get(\"s\") == \"ok\":\n",
    "            df = pd.DataFrame({\n",
    "                \"timestamp\": pd.to_datetime(data[\"t\"], unit=\"s\"),\n",
    "                \"open\": data[\"o\"],\n",
    "                \"high\": data[\"h\"],\n",
    "                \"low\": data[\"l\"],\n",
    "                \"close\": data[\"c\"],\n",
    "                \"volume\": data[\"v\"]\n",
    "            })\n",
    "            source = \"finnhub\"\n",
    "        else:\n",
    "            print(f\"⚠️ Finnhub failed: {data}\")\n",
    "            df = None\n",
    "    except Exception as e:\n",
    "        print(f\"❌ Finnhub exception: {e}\")\n",
    "        df = None\n",
    "    \n",
    "    if df is None:\n",
    "        print(f\"🔁 Falling back to yfinance for {symbol}...\")\n",
    "        try:\n",
    "            ticker = yf.Ticker(symbol)\n",
    "            df = ticker.history(start=start_date).reset_index()\n",
    "            df = df.rename(columns={\n",
    "                \"Date\": \"timestamp\",\n",
    "                \"Open\": \"open\",\n",
    "                \"High\": \"high\",\n",
    "                \"Low\": \"low\",\n",
    "                \"Close\": \"close\",\n",
    "                \"Volume\": \"volume\"\n",
    "            })\n",
    "            source = \"yfinance\"\n",
    "        except Exception as e:\n",
    "            print(f\"❌ yfinance exception: {e}\")\n",
    "            return None\n",
    "    \n",
    "    if df.empty or df.isna().sum().sum() > 0:\n",
    "        print(\"⚠️ DataFrame is empty or contains NaNs.\")\n",
    "        return None\n",
    "    \n",
    "    os.makedirs(output_dir, exist_ok=True)\n",
    "    timestamp = datetime.now().strftime(\"%Y%m%d-%H%M\")\n",
    "    filename = f\"{output_dir}/api_{source}_{symbol.lower()}_{timestamp}.csv\"\n",
    "    df.to_csv(filename, index=False)\n",
    "    print(f\"✅ Data saved to {filename}\")\n",
    "    return df\n"
   ]
  },
  {
   "cell_type": "code",
   "execution_count": 2,
   "metadata": {},
   "outputs": [
    {
     "ename": "SyntaxError",
     "evalue": "invalid syntax. Perhaps you forgot a comma? (464881451.py, line 6)",
     "output_type": "error",
     "traceback": [
      "\u001b[1;36m  Cell \u001b[1;32mIn[2], line 6\u001b[1;36m\u001b[0m\n\u001b[1;33m    \"summary_doc\": False\u001b[0m\n\u001b[1;37m                   ^\u001b[0m\n\u001b[1;31mSyntaxError\u001b[0m\u001b[1;31m:\u001b[0m invalid syntax. Perhaps you forgot a comma?\n"
     ]
    }
   ],
   "source": [
    "checklist = {\n",
    "    \"repo_clean\": False,\n",
    "    \"repo_complete\": False,\n",
    "    \"readme_complete\": False,\n",
    "    \"lifecycle_map\": False,\n",
    "    \"summary_doc\": False\n",
    "    \"framework_guide_table\": False\n",
    "}\n",
    "checklist"
   ]
  },
  {
   "cell_type": "markdown",
   "metadata": {},
   "source": [
    "# Reflection Prompts\n",
    "\n",
    "## What stage of the lifecycle was hardest for you, and why?\n",
    "\n",
    "The hardest stage of the lifecycle was **Data Acquisition / Ingestion** because handling API failures, such as invalid API keys with Finnhub, and adapting to changes in web data sources like Yahoo Finance scraping required multiple fallback solutions and troubleshooting. Ensuring data completeness and consistency amidst these disruptions demanded significant effort.\n",
    "\n",
    "## Which part of your repo is most reusable in a future project?\n",
    "\n",
    "The most reusable part of the repo is the **data ingestion and preprocessing pipelines**, especially the robust Python functions that fetch stock data from multiple sources and generate synthetic social media datasets aligned with stock market days. These modular and parameterized scripts can easily be adapted to other ticker symbols or social media topics.\n",
    "\n",
    "## If a teammate had to pick up your repo tomorrow, what would help them most?\n",
    "\n",
    "To help a teammate pick up the repo quickly, **comprehensive documentation** including a detailed README with lifecycle mapping, and clear function docstrings across all scripts would be most valuable. Additionally, maintaining a clean and consistent folder structure with example notebooks demonstrating key workflows would greatly facilitate understanding and extending the project.\n"
   ]
  }
 ],
 "metadata": {
  "kernelspec": {
   "display_name": "carvana-project",
   "language": "python",
   "name": "python3"
  },
  "language_info": {
   "codemirror_mode": {
    "name": "ipython",
    "version": 3
   },
   "file_extension": ".py",
   "mimetype": "text/x-python",
   "name": "python",
   "nbconvert_exporter": "python",
   "pygments_lexer": "ipython3",
   "version": "3.10.18"
  }
 },
 "nbformat": 4,
 "nbformat_minor": 2
}
